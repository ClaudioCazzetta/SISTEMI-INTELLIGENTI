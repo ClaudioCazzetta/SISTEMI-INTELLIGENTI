{
  "nbformat": 4,
  "nbformat_minor": 0,
  "metadata": {
    "colab": {
      "name": "Regressione logistica.ipynb",
      "provenance": [],
      "collapsed_sections": []
    },
    "kernelspec": {
      "name": "python3",
      "display_name": "Python 3"
    },
    "language_info": {
      "name": "python"
    }
  },
  "cells": [
    {
      "cell_type": "markdown",
      "metadata": {
        "id": "vjrzMapSIS4z"
      },
      "source": [
        "IMPORTIAMO I MODULI E INIZIALIZZIAMO LE VARIABILI CHE CI INTERESSANO"
      ]
    },
    {
      "cell_type": "code",
      "metadata": {
        "id": "OzwMPXb-HQBZ"
      },
      "source": [
        "import numpy as np\n",
        "import pandas as pd\n",
        "import math\n",
        "\n",
        "data = pd.read_csv('titanicTrain.csv')\n",
        "\n",
        "data = np.array(data)\n",
        "data = np.hstack((np.ones((data.shape[0],1)),data))\n",
        "\n",
        "X = data[:, 2:5]\n",
        "Y = data[:, 1]\n",
        "\n",
        "Y=Y.reshape(len(X),1)\n",
        "\n",
        "theta=np.zeros((X.shape[1],1),dtype=float)"
      ],
      "execution_count": 21,
      "outputs": []
    },
    {
      "cell_type": "markdown",
      "metadata": {
        "id": "-Z2wO4oSJCC4"
      },
      "source": [
        "APPLICHIAMO LA FEATURE NORMALIZATION"
      ]
    },
    {
      "cell_type": "code",
      "metadata": {
        "id": "GFMeQ3n4JExt"
      },
      "source": [
        "X = X/(np.max(X))"
      ],
      "execution_count": 22,
      "outputs": []
    },
    {
      "cell_type": "markdown",
      "metadata": {
        "id": "eYjAI3GiIl9B"
      },
      "source": [
        "DEFINIAMO LA SIGMOIDE"
      ]
    },
    {
      "cell_type": "code",
      "metadata": {
        "id": "wnzOzDq-IoBI"
      },
      "source": [
        "def sigmoid(z):\n",
        "    g= 1 / (1+np.exp(-1*z))\n",
        "    return g"
      ],
      "execution_count": 23,
      "outputs": []
    },
    {
      "cell_type": "markdown",
      "metadata": {
        "id": "JodxmpIaIqnL"
      },
      "source": [
        "DEFINIAMO LA COST FUNCTION IN FUNZIONE DELLA SIGMOIDE"
      ]
    },
    {
      "cell_type": "code",
      "metadata": {
        "id": "waIQUw2-IttG"
      },
      "source": [
        "def costFunction(X,Y,theta,var_lambda):\n",
        "    m = Y.size\n",
        "    h = sigmoid(np.dot(X,theta))\n",
        "    cost = (h-Y)**2\n",
        "    theta[1] = 0\n",
        "    J = (1/(2*m)) * sum(cost)+ (var_lambda/(2*m)* sum(theta**2))\n",
        "    grad =(1/m)*np.dot(np.transpose(X),(h-Y))\n",
        "    return J"
      ],
      "execution_count": 25,
      "outputs": []
    },
    {
      "cell_type": "markdown",
      "metadata": {
        "id": "tyk-1aOWI033"
      },
      "source": [
        "APPLICHIAMO LA COST FUNCTION"
      ]
    },
    {
      "cell_type": "code",
      "metadata": {
        "colab": {
          "base_uri": "https://localhost:8080/"
        },
        "id": "lyyuXG7dI3EB",
        "outputId": "2b0802fe-cc9e-4431-c61d-98db00d713bb"
      },
      "source": [
        "J = costFunction(X,Y,theta,0.01)\n",
        "J"
      ],
      "execution_count": 27,
      "outputs": [
        {
          "output_type": "execute_result",
          "data": {
            "text/plain": [
              "array([0.125])"
            ]
          },
          "metadata": {},
          "execution_count": 27
        }
      ]
    },
    {
      "cell_type": "markdown",
      "metadata": {
        "id": "yTbUv34pJLb9"
      },
      "source": [
        "DEFINIAMO L'ALGORITMO DEL GRADIENT DESCENT"
      ]
    },
    {
      "cell_type": "code",
      "metadata": {
        "id": "HAbofPG9JPaB"
      },
      "source": [
        "def gradientDescent(X, Y, theta, alpha, num_iters,var_lambda):\n",
        "    m = Y.size\n",
        "    J_history = np.zeros(num_iters)\n",
        "    for iter in range(num_iters):\n",
        "        h = np.dot(X,theta)\n",
        "        theta = theta*(1-((alpha/m)*var_lambda))-(alpha/m)*np.dot(np.transpose(X), (h-Y))\n",
        "        J_history[iter] =costFunction(X,Y,theta,var_lambda)\n",
        "    return theta,J_history"
      ],
      "execution_count": 28,
      "outputs": []
    },
    {
      "cell_type": "markdown",
      "metadata": {
        "id": "fsCSMmy8JX1y"
      },
      "source": [
        "DEFINIAMO I THETA FINALI"
      ]
    },
    {
      "cell_type": "code",
      "metadata": {
        "id": "cNZygC6bJbFE"
      },
      "source": [
        "theta_final = gradientDescent(X,Y, theta, 0.001, 200, 0.01)\n",
        "theta_final"
      ],
      "execution_count": null,
      "outputs": []
    },
    {
      "cell_type": "markdown",
      "metadata": {
        "id": "9dztCgVoL6qh"
      },
      "source": [
        "PREDICT NON SVOLTO\n"
      ]
    }
  ]
}